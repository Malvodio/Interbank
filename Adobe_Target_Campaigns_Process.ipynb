{
  "nbformat": 4,
  "nbformat_minor": 0,
  "metadata": {
    "colab": {
      "provenance": []
    },
    "kernelspec": {
      "name": "python3",
      "display_name": "Python 3"
    },
    "language_info": {
      "name": "python"
    }
  },
  "cells": [
    {
      "cell_type": "code",
      "source": [
        "!pip install requests"
      ],
      "metadata": {
        "colab": {
          "base_uri": "https://localhost:8080/"
        },
        "id": "ypez_FFVRVzh",
        "outputId": "18409227-4994-473b-bce2-fb7974088e1a"
      },
      "execution_count": 61,
      "outputs": [
        {
          "output_type": "stream",
          "name": "stdout",
          "text": [
            "Requirement already satisfied: requests in /usr/local/lib/python3.10/dist-packages (2.31.0)\n",
            "Requirement already satisfied: charset-normalizer<4,>=2 in /usr/local/lib/python3.10/dist-packages (from requests) (3.3.2)\n",
            "Requirement already satisfied: idna<4,>=2.5 in /usr/local/lib/python3.10/dist-packages (from requests) (3.6)\n",
            "Requirement already satisfied: urllib3<3,>=1.21.1 in /usr/local/lib/python3.10/dist-packages (from requests) (2.0.7)\n",
            "Requirement already satisfied: certifi>=2017.4.17 in /usr/local/lib/python3.10/dist-packages (from requests) (2024.2.2)\n"
          ]
        }
      ]
    },
    {
      "cell_type": "code",
      "source": [
        "import pandas as pd\n",
        "from google.colab import files\n",
        "import json\n",
        "import requests"
      ],
      "metadata": {
        "id": "KTEjH-F3ReQ-"
      },
      "execution_count": 62,
      "outputs": []
    },
    {
      "cell_type": "code",
      "source": [
        "ACOUSTIC_CONTENT_URL = \"https://content-us-1.content-cms.com\",\n",
        "ACOUSTIC_CONTENT_TOKEN = \"QWNvdXN0aWNBUElLZXk6Y2I5NjcyMGM0NTdlNGNiYTllZTE0ZGJjM2Y2ZmFjYjY=\",\n",
        "ACOUSTIC_CONTENT_TENANT_ID = \"a9e7e55e-ca51-4f21-9a02-b12107b0c641\","
      ],
      "metadata": {
        "id": "Q3kqf9AlSBUT"
      },
      "execution_count": 63,
      "outputs": []
    },
    {
      "cell_type": "code",
      "source": [
        "baseURL= ACOUSTIC_CONTENT_URL+ '/api/' + ACOUSTIC_CONTENT_TENANT_ID\n",
        "\n",
        "url = \"https://example.com/authoring/v1/assets/id\"\n",
        "\n",
        "headers = {\"accept\": \"application/json\"}\n",
        "\n",
        "response = requests.get(url, headers=headers)\n",
        "\n",
        "print(response.text)"
      ],
      "metadata": {
        "id": "_xZfczLpRk9K"
      },
      "execution_count": null,
      "outputs": []
    },
    {
      "cell_type": "code",
      "source": [
        "\n",
        "uploaded = files.upload()\n",
        "\n",
        "for fn in uploaded.keys():\n",
        "  print('User uploaded file \"{name}\" with length {length} bytes'.format(\n",
        "      name=fn, length=len(uploaded[fn])))\n",
        "\n",
        "  # Read the file that the user uploaded\n",
        "  df = pd.read_excel(fn,sheet_name='Elementos')\n",
        "  df.drop('nombre_contenido', axis=1, inplace=True)"
      ],
      "metadata": {
        "id": "QuQoMxaYEcGZ"
      },
      "execution_count": null,
      "outputs": []
    },
    {
      "cell_type": "code",
      "source": [
        "key_map = {'imagen_spotlight': 'imagenUrlSpotLight',\n",
        "'titulo_spotlight': 'tituloSpotLight',\n",
        "'bajada_spotlight': 'descriptionSpotLight',\n",
        "'icono_listado': 'imagenUrlListado',\n",
        "'titulo_listado': 'tituloListado',\n",
        "'imagen_detalle': 'imagenUrlDetalle',\n",
        "'titulo_detalle': 'tituloDetalle',\n",
        "'bajada_detalle': 'descriptionDetalle',\n",
        "'descripcion_detalle': 'resumenDetalle',\n",
        "'subtitulo_detalle': 'subTituloDetalle',\n",
        "'bullets': 'caracteristicas',\n",
        "'btncontenido': 'borrar',\n",
        "'txt_titulo': 'textoBoton',\n",
        "'enlace': 'enlaceBoton',\n",
        "'enlace_externo': 'enlaceExterno',\n",
        "'tag_action': 'tagAction'}"
      ],
      "metadata": {
        "id": "hT8qzdkC_wCo"
      },
      "execution_count": 51,
      "outputs": []
    },
    {
      "cell_type": "code",
      "source": [
        "# Convert the DataFrame to a dictionary\n",
        "# Use the first column as keys and remaining columns as values\n",
        "data = df.set_index('nombre_campo').T.to_dict('list')"
      ],
      "metadata": {
        "id": "EsmJKWVlxY8T"
      },
      "execution_count": 52,
      "outputs": []
    },
    {
      "cell_type": "code",
      "source": [
        "# Create the new dict\n",
        "new_dict = {}\n",
        "\n",
        "# Transform values\n",
        "for k, v in data.items():\n",
        "  split_values = str(v[0]).split('|')\n",
        "  new_k = key_map[k]\n",
        "  if new_k != 'borrar':\n",
        "    if len(split_values) == 1:\n",
        "      if split_values[0] == '1':\n",
        "        new_dict[new_k] = True\n",
        "      elif split_values[0] == '0':\n",
        "        new_dict[new_k] = False\n",
        "      else:\n",
        "        new_dict[new_k] = split_values[0]\n",
        "    else:\n",
        "      new_dict[new_k] = split_values"
      ],
      "metadata": {
        "id": "rDJqIokW2KdD"
      },
      "execution_count": 56,
      "outputs": []
    },
    {
      "cell_type": "code",
      "source": [
        "# Dump dictionary to JSON file\n",
        "with open('target_act.json', 'w', encoding='utf-8') as f:\n",
        "  json.dump(new_dict, f, ensure_ascii=False, indent=3)"
      ],
      "metadata": {
        "id": "dwHn1cNbyfGd"
      },
      "execution_count": 60,
      "outputs": []
    }
  ]
}